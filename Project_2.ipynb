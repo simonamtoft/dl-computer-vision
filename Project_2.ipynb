{
  "nbformat": 4,
  "nbformat_minor": 0,
  "metadata": {
    "colab": {
      "name": "Project 2.ipynb",
      "provenance": [],
      "collapsed_sections": []
    },
    "kernelspec": {
      "name": "python3",
      "display_name": "Python 3"
    },
    "language_info": {
      "name": "python"
    },
    "accelerator": "GPU",
    "widgets": {
      "application/vnd.jupyter.widget-state+json": {
        "20c63bdca59b484891cfbe85b47b7e67": {
          "model_module": "@jupyter-widgets/controls",
          "model_name": "VBoxModel",
          "state": {
            "_view_name": "VBoxView",
            "_dom_classes": [],
            "_model_name": "VBoxModel",
            "_view_module": "@jupyter-widgets/controls",
            "_model_module_version": "1.5.0",
            "_view_count": null,
            "_view_module_version": "1.5.0",
            "box_style": "",
            "layout": "IPY_MODEL_6cf97753cff54e3095d055ce32ad9aab",
            "_model_module": "@jupyter-widgets/controls",
            "children": [
              "IPY_MODEL_c82c42a9f262480bbf694040635931a1",
              "IPY_MODEL_9670948a587a4811b563d6de770e9ec4"
            ]
          }
        },
        "6cf97753cff54e3095d055ce32ad9aab": {
          "model_module": "@jupyter-widgets/base",
          "model_name": "LayoutModel",
          "state": {
            "_view_name": "LayoutView",
            "grid_template_rows": null,
            "right": null,
            "justify_content": null,
            "_view_module": "@jupyter-widgets/base",
            "overflow": null,
            "_model_module_version": "1.2.0",
            "_view_count": null,
            "flex_flow": null,
            "width": null,
            "min_width": null,
            "border": null,
            "align_items": null,
            "bottom": null,
            "_model_module": "@jupyter-widgets/base",
            "top": null,
            "grid_column": null,
            "overflow_y": null,
            "overflow_x": null,
            "grid_auto_flow": null,
            "grid_area": null,
            "grid_template_columns": null,
            "flex": null,
            "_model_name": "LayoutModel",
            "justify_items": null,
            "grid_row": null,
            "max_height": null,
            "align_content": null,
            "visibility": null,
            "align_self": null,
            "height": null,
            "min_height": null,
            "padding": null,
            "grid_auto_rows": null,
            "grid_gap": null,
            "max_width": null,
            "order": null,
            "_view_module_version": "1.2.0",
            "grid_template_areas": null,
            "object_position": null,
            "object_fit": null,
            "grid_auto_columns": null,
            "margin": null,
            "display": null,
            "left": null
          }
        },
        "c82c42a9f262480bbf694040635931a1": {
          "model_module": "@jupyter-widgets/controls",
          "model_name": "LabelModel",
          "state": {
            "_view_name": "LabelView",
            "style": "IPY_MODEL_b02799341c0a4365b92020750c6d04b5",
            "_dom_classes": [],
            "description": "",
            "_model_name": "LabelModel",
            "placeholder": "​",
            "_view_module": "@jupyter-widgets/controls",
            "_model_module_version": "1.5.0",
            "value": " 0.01MB of 0.01MB uploaded (0.00MB deduped)\r",
            "_view_count": null,
            "_view_module_version": "1.5.0",
            "description_tooltip": null,
            "_model_module": "@jupyter-widgets/controls",
            "layout": "IPY_MODEL_7a7cbda5aa394ff5ba8cb4ef49e0ee6d"
          }
        },
        "9670948a587a4811b563d6de770e9ec4": {
          "model_module": "@jupyter-widgets/controls",
          "model_name": "FloatProgressModel",
          "state": {
            "_view_name": "ProgressView",
            "style": "IPY_MODEL_bbb76f2d35e94c67a1620c45a40f2fcf",
            "_dom_classes": [],
            "description": "",
            "_model_name": "FloatProgressModel",
            "bar_style": "",
            "max": 1,
            "_view_module": "@jupyter-widgets/controls",
            "_model_module_version": "1.5.0",
            "value": 1,
            "_view_count": null,
            "_view_module_version": "1.5.0",
            "orientation": "horizontal",
            "min": 0,
            "description_tooltip": null,
            "_model_module": "@jupyter-widgets/controls",
            "layout": "IPY_MODEL_95daa139db8144e4be868eea0de25f37"
          }
        },
        "b02799341c0a4365b92020750c6d04b5": {
          "model_module": "@jupyter-widgets/controls",
          "model_name": "DescriptionStyleModel",
          "state": {
            "_view_name": "StyleView",
            "_model_name": "DescriptionStyleModel",
            "description_width": "",
            "_view_module": "@jupyter-widgets/base",
            "_model_module_version": "1.5.0",
            "_view_count": null,
            "_view_module_version": "1.2.0",
            "_model_module": "@jupyter-widgets/controls"
          }
        },
        "7a7cbda5aa394ff5ba8cb4ef49e0ee6d": {
          "model_module": "@jupyter-widgets/base",
          "model_name": "LayoutModel",
          "state": {
            "_view_name": "LayoutView",
            "grid_template_rows": null,
            "right": null,
            "justify_content": null,
            "_view_module": "@jupyter-widgets/base",
            "overflow": null,
            "_model_module_version": "1.2.0",
            "_view_count": null,
            "flex_flow": null,
            "width": null,
            "min_width": null,
            "border": null,
            "align_items": null,
            "bottom": null,
            "_model_module": "@jupyter-widgets/base",
            "top": null,
            "grid_column": null,
            "overflow_y": null,
            "overflow_x": null,
            "grid_auto_flow": null,
            "grid_area": null,
            "grid_template_columns": null,
            "flex": null,
            "_model_name": "LayoutModel",
            "justify_items": null,
            "grid_row": null,
            "max_height": null,
            "align_content": null,
            "visibility": null,
            "align_self": null,
            "height": null,
            "min_height": null,
            "padding": null,
            "grid_auto_rows": null,
            "grid_gap": null,
            "max_width": null,
            "order": null,
            "_view_module_version": "1.2.0",
            "grid_template_areas": null,
            "object_position": null,
            "object_fit": null,
            "grid_auto_columns": null,
            "margin": null,
            "display": null,
            "left": null
          }
        },
        "bbb76f2d35e94c67a1620c45a40f2fcf": {
          "model_module": "@jupyter-widgets/controls",
          "model_name": "ProgressStyleModel",
          "state": {
            "_view_name": "StyleView",
            "_model_name": "ProgressStyleModel",
            "description_width": "",
            "_view_module": "@jupyter-widgets/base",
            "_model_module_version": "1.5.0",
            "_view_count": null,
            "_view_module_version": "1.2.0",
            "bar_color": null,
            "_model_module": "@jupyter-widgets/controls"
          }
        },
        "95daa139db8144e4be868eea0de25f37": {
          "model_module": "@jupyter-widgets/base",
          "model_name": "LayoutModel",
          "state": {
            "_view_name": "LayoutView",
            "grid_template_rows": null,
            "right": null,
            "justify_content": null,
            "_view_module": "@jupyter-widgets/base",
            "overflow": null,
            "_model_module_version": "1.2.0",
            "_view_count": null,
            "flex_flow": null,
            "width": null,
            "min_width": null,
            "border": null,
            "align_items": null,
            "bottom": null,
            "_model_module": "@jupyter-widgets/base",
            "top": null,
            "grid_column": null,
            "overflow_y": null,
            "overflow_x": null,
            "grid_auto_flow": null,
            "grid_area": null,
            "grid_template_columns": null,
            "flex": null,
            "_model_name": "LayoutModel",
            "justify_items": null,
            "grid_row": null,
            "max_height": null,
            "align_content": null,
            "visibility": null,
            "align_self": null,
            "height": null,
            "min_height": null,
            "padding": null,
            "grid_auto_rows": null,
            "grid_gap": null,
            "max_width": null,
            "order": null,
            "_view_module_version": "1.2.0",
            "grid_template_areas": null,
            "object_position": null,
            "object_fit": null,
            "grid_auto_columns": null,
            "margin": null,
            "display": null,
            "left": null
          }
        }
      }
    }
  },
  "cells": [
    {
      "cell_type": "markdown",
      "metadata": {
        "id": "0_7l8c5xhtbw"
      },
      "source": [
        "# Setup Notebook"
      ]
    },
    {
      "cell_type": "code",
      "metadata": {
        "id": "J5SMGmLdhwai"
      },
      "source": [
        "# import standard libraries\n",
        "import sys, os\n",
        "import numpy as np\n",
        "\n",
        "import torch\n",
        "import torch.nn.functional as F\n",
        "import torchvision.datasets as datasets\n",
        "import torchvision.transforms as transforms\n",
        "from torch.utils.data import DataLoader, ConcatDataset\n",
        "\n",
        "import matplotlib.pyplot as plt\n",
        "import matplotlib.patches as patches"
      ],
      "execution_count": null,
      "outputs": []
    },
    {
      "cell_type": "code",
      "metadata": {
        "id": "IQm-8ktMh0jw",
        "colab": {
          "base_uri": "https://localhost:8080/"
        },
        "outputId": "320ff3fa-0d4b-42ef-ef26-140e906b4cf6"
      },
      "source": [
        "# set device\n",
        "device = torch.device('cuda' if torch.cuda.is_available() else 'cpu')\n",
        "print(f\"Using device {device}\")"
      ],
      "execution_count": null,
      "outputs": [
        {
          "output_type": "stream",
          "text": [
            "Using device cuda\n"
          ],
          "name": "stdout"
        }
      ]
    },
    {
      "cell_type": "code",
      "metadata": {
        "id": "Wsv09l64h1n-"
      },
      "source": [
        "# install weight and biases library\n",
        "!pip install wandb > /dev/null\n",
        "import wandb"
      ],
      "execution_count": null,
      "outputs": []
    },
    {
      "cell_type": "code",
      "metadata": {
        "id": "QjtrQQuoh24m",
        "colab": {
          "base_uri": "https://localhost:8080/"
        },
        "outputId": "e634f52a-e706-4a3d-f2a2-af866ed5d9d6"
      },
      "source": [
        "# setup repo\n",
        "if os.path.exists('./dl-computer-vision'):\n",
        "    !rm -r dl-computer-vision > /dev/null\n",
        "!git clone https://github.com/simonamtoft/dl-computer-vision.git > /dev/null\n",
        "sys.path.append('dl-computer-vision')\n",
        "\n",
        "# import helpers as h\n",
        "from data import LIDC_CLDV\n",
        "from testing import test_pass_medical\n",
        "from models import UNet\n",
        "from training import train_medical"
      ],
      "execution_count": null,
      "outputs": [
        {
          "output_type": "stream",
          "text": [
            "Cloning into 'dl-computer-vision'...\n",
            "remote: Enumerating objects: 846, done.\u001b[K\n",
            "remote: Counting objects: 100% (93/93), done.\u001b[K\n",
            "remote: Compressing objects: 100% (59/59), done.\u001b[K\n",
            "remote: Total 846 (delta 56), reused 67 (delta 33), pack-reused 753\u001b[K\n",
            "Receiving objects: 100% (846/846), 21.12 MiB | 37.22 MiB/s, done.\n",
            "Resolving deltas: 100% (539/539), done.\n"
          ],
          "name": "stdout"
        }
      ]
    },
    {
      "cell_type": "code",
      "metadata": {
        "id": "du6kgb7gh7gf"
      },
      "source": [
        "# Define name of project on weight and biases site\n",
        "project_name = \"project-2\""
      ],
      "execution_count": null,
      "outputs": []
    },
    {
      "cell_type": "code",
      "metadata": {
        "id": "aPKh4Oihh9Mo"
      },
      "source": [
        "# Download data\n",
        "import gdown\n",
        "if not os.path.exists('./LIDC_crops/LIDC_DLCV_version'):\n",
        "    url = 'https://drive.google.com/uc?id=1W6zB9UH4j_iHxaUcYZSdiEkzcJN77lSA'\n",
        "    gdown.download(url, './LIDC.zip', quiet=True)\n",
        "    !unzip ./LIDC.zip > /dev/null\n",
        "\n",
        "# define path to data in your drive\n",
        "path_to_data = \"/content/LIDC_crops/LIDC_DLCV_version/\""
      ],
      "execution_count": null,
      "outputs": []
    },
    {
      "cell_type": "markdown",
      "metadata": {
        "id": "MzYd5BWqhwk4"
      },
      "source": [
        "# Project 2"
      ]
    },
    {
      "cell_type": "code",
      "metadata": {
        "id": "sRE_yzcNjPIE",
        "colab": {
          "base_uri": "https://localhost:8080/"
        },
        "outputId": "d9e76c75-4d04-4be3-f772-24df323b0d8e"
      },
      "source": [
        "# login to weight and biases\n",
        "!wandb login"
      ],
      "execution_count": null,
      "outputs": [
        {
          "output_type": "stream",
          "text": [
            "\u001b[34m\u001b[1mwandb\u001b[0m: You can find your API key in your browser here: https://wandb.ai/authorize\n",
            "\u001b[34m\u001b[1mwandb\u001b[0m: Paste an API key from your profile and hit enter: \n",
            "\u001b[34m\u001b[1mwandb\u001b[0m: Appending key for api.wandb.ai to your netrc file: /root/.netrc\n"
          ],
          "name": "stdout"
        }
      ]
    },
    {
      "cell_type": "code",
      "metadata": {
        "id": "khV2jUBfjRib"
      },
      "source": [
        "config = {\n",
        "    'epochs': 15,\n",
        "    'batch_size': 64,\n",
        "    'learning_rate': 1e-3, \n",
        "    'optimizer': 'adam',\n",
        "    'loss_func': ['bce_weight', [25]],\n",
        "    'batch_norm': True,\n",
        "    'dropout': 0.2,\n",
        "    'channels': [64, 128, 256],\n",
        "    'n_convs': 3,\n",
        "    'step_lr': [False, 1, 0.8],\n",
        "    'padding': 1\n",
        "}"
      ],
      "execution_count": null,
      "outputs": []
    },
    {
      "cell_type": "markdown",
      "metadata": {
        "id": "hyiMgFkjR-8r"
      },
      "source": [
        "## Get Data"
      ]
    },
    {
      "cell_type": "code",
      "metadata": {
        "id": "u4jZakJTR-cn"
      },
      "source": [
        "# Define data transforms UNUSED ATM\n",
        "transform = transforms.Compose([])\n",
        "common_transform = transforms.Compose([])\n",
        "\n",
        "# Define annotator (-1 is all 4)\n",
        "annotator = -1\n",
        "\n",
        "# Chose whether to affine the training data or not\n",
        "affine = False"
      ],
      "execution_count": null,
      "outputs": []
    },
    {
      "cell_type": "code",
      "metadata": {
        "id": "zOYZwYXxSe4P"
      },
      "source": [
        "# Get data from files\n",
        "trainset = LIDC_CLDV(\n",
        "    split='train', \n",
        "    affine=affine,\n",
        "    data_path=path_to_data,\n",
        "    annotator=annotator, \n",
        "    transform=transform, \n",
        "    common_transform=common_transform\n",
        ")\n",
        "valset = LIDC_CLDV(\n",
        "    split='val', \n",
        "    data_path=path_to_data,\n",
        "    annotator=annotator, \n",
        "    transform=transform, \n",
        "    common_transform=common_transform\n",
        ")\n",
        "testset = LIDC_CLDV(\n",
        "    split='test',\n",
        "    data_path=path_to_data,\n",
        "    annotator=annotator, \n",
        "    transform=transform, \n",
        "    common_transform=common_transform\n",
        ")\n",
        "\n",
        "# Setup data loaders\n",
        "train_loader = DataLoader(\n",
        "    trainset, batch_size=config['batch_size'], shuffle=True, num_workers=2)\n",
        "val_loader = DataLoader(\n",
        "    valset, batch_size=config['batch_size'], shuffle=True, num_workers=2)\n",
        "test_loader = DataLoader(\n",
        "    testset, batch_size=config['batch_size'], shuffle=False, num_workers=2)"
      ],
      "execution_count": null,
      "outputs": []
    },
    {
      "cell_type": "code",
      "metadata": {
        "id": "A_ihoI-uuHX6"
      },
      "source": [
        "# X, y = next(iter(train_loader))"
      ],
      "execution_count": null,
      "outputs": []
    },
    {
      "cell_type": "code",
      "metadata": {
        "id": "aqUharTXpZkZ"
      },
      "source": [
        "# Display a single image with 4 annotators\n",
        "# f, ax = plt.subplots(1, 5, figsize=(12, 10))\n",
        "# idx = 21 # 4, 9, 14, 18, 20\n",
        "# ax[0].imshow(X[idx][0], cmap='gray')\n",
        "# ax[0].set_title('Image')\n",
        "# ax[0].axis('off')\n",
        "# for i in range(1, 5):\n",
        "#     ax[i].imshow(y[idx, i-1, 0], cmap='gray')\n",
        "#     ax[i].axis('off')\n",
        "#     ax[i].set_title(f'Annotation {i}')\n",
        "# f.tight_layout()\n",
        "# f.savefig('data.png', dpi=300, transparent=True, bbox_inches='tight')"
      ],
      "execution_count": null,
      "outputs": []
    },
    {
      "cell_type": "code",
      "metadata": {
        "id": "21YMwmuTTXfZ"
      },
      "source": [
        "# Display multiple images with annotators\n",
        "# f, ax = plt.subplots(1 + y.shape[1], 5, figsize=(12, 10))\n",
        "# for i in range(5):\n",
        "#     ax[0, i].imshow(X[i, 0].numpy(), cmap='gray')\n",
        "#     ax[0, i].axis('off')\n",
        "#     for j in range(y.shape[1]):\n",
        "#         ax[1+j, i].imshow(y[i, j, 0].numpy(), cmap='gray')\n",
        "#         ax[1+j, i].axis('off')"
      ],
      "execution_count": null,
      "outputs": []
    },
    {
      "cell_type": "markdown",
      "metadata": {
        "id": "p4SIg5INSC1x"
      },
      "source": [
        "## Train Model"
      ]
    },
    {
      "cell_type": "code",
      "metadata": {
        "id": "Cq6sPwK7l__Q",
        "colab": {
          "base_uri": "https://localhost:8080/",
          "height": 1000,
          "referenced_widgets": [
            "20c63bdca59b484891cfbe85b47b7e67",
            "6cf97753cff54e3095d055ce32ad9aab",
            "c82c42a9f262480bbf694040635931a1",
            "9670948a587a4811b563d6de770e9ec4",
            "b02799341c0a4365b92020750c6d04b5",
            "7a7cbda5aa394ff5ba8cb4ef49e0ee6d",
            "bbb76f2d35e94c67a1620c45a40f2fcf",
            "95daa139db8144e4be868eea0de25f37"
          ]
        },
        "outputId": "7cb04c72-b52c-44fd-ee66-553d13b15896"
      },
      "source": [
        "# instantiate the model\n",
        "model = UNet(config).to(device)\n",
        "\n",
        "# train the model\n",
        "train_dict, val_dict = train_medical(model, config, train_loader, val_loader, project_name)"
      ],
      "execution_count": null,
      "outputs": [
        {
          "output_type": "display_data",
          "data": {
            "image/png": "[encoded data removed]",
            "text/plain": [
              "<Figure size 1008x432 with 18 Axes>"
            ]
          },
          "metadata": {
            "tags": [],
            "needs_background": "light"
          }
        },
        {
          "output_type": "display_data",
          "data": {
            "text/html": [
              "<br/>Waiting for W&B process to finish, PID 924<br/>Program ended successfully."
            ],
            "text/plain": [
              "<IPython.core.display.HTML object>"
            ]
          },
          "metadata": {
            "tags": []
          }
        },
        {
          "output_type": "display_data",
          "data": {
            "application/vnd.jupyter.widget-view+json": {
              "model_id": "20c63bdca59b484891cfbe85b47b7e67",
              "version_minor": 0,
              "version_major": 2
            },
            "text/plain": [
              "VBox(children=(Label(value=' 0.00MB of 0.00MB uploaded (0.00MB deduped)\\r'), FloatProgress(value=1.0, max=1.0)…"
            ]
          },
          "metadata": {
            "tags": []
          }
        },
        {
          "output_type": "display_data",
          "data": {
            "text/html": [
              "Find user logs for this run at: <code>/content/wandb/run-20210616_160038-1l2xbzru/logs/debug.log</code>"
            ],
            "text/plain": [
              "<IPython.core.display.HTML object>"
            ]
          },
          "metadata": {
            "tags": []
          }
        },
        {
          "output_type": "display_data",
          "data": {
            "text/html": [
              "Find internal logs for this run at: <code>/content/wandb/run-20210616_160038-1l2xbzru/logs/debug-internal.log</code>"
            ],
            "text/plain": [
              "<IPython.core.display.HTML object>"
            ]
          },
          "metadata": {
            "tags": []
          }
        },
        {
          "output_type": "display_data",
          "data": {
            "text/html": [
              "<h3>Run summary:</h3><br/><style>\n",
              "    table.wandb td:nth-child(1) { padding: 0 10px; text-align: right }\n",
              "    </style><table class=\"wandb\">\n",
              "<tr><td>train_loss</td><td>0.04198</td></tr><tr><td>valid_loss</td><td>0.05769</td></tr><tr><td>train_dice</td><td>0.37523</td></tr><tr><td>train_iou</td><td>0.28563</td></tr><tr><td>train_acc</td><td>0.99066</td></tr><tr><td>train_sens</td><td>0.60844</td></tr><tr><td>train_spec</td><td>0.9908</td></tr><tr><td>val_dice</td><td>0.35472</td></tr><tr><td>val_iou</td><td>0.27469</td></tr><tr><td>val_acc</td><td>0.99188</td></tr><tr><td>val_sens</td><td>0.54948</td></tr><tr><td>val_spec</td><td>0.99225</td></tr><tr><td>_runtime</td><td>2050</td></tr><tr><td>_timestamp</td><td>1623861288</td></tr><tr><td>_step</td><td>14</td></tr></table>"
            ],
            "text/plain": [
              "<IPython.core.display.HTML object>"
            ]
          },
          "metadata": {
            "tags": []
          }
        },
        {
          "output_type": "display_data",
          "data": {
            "text/html": [
              "<h3>Run history:</h3><br/><style>\n",
              "    table.wandb td:nth-child(1) { padding: 0 10px; text-align: right }\n",
              "    </style><table class=\"wandb\">\n",
              "<tr><td>train_loss</td><td>█▃▃▂▂▂▂▁▁▁▁▁▁▁▁</td></tr><tr><td>valid_loss</td><td>█▄▂▃▁▂▂▃▃▁▁▁▁▁▁</td></tr><tr><td>train_dice</td><td>▁▄▅▆▆▇▇▇▇▇▇▇███</td></tr><tr><td>train_iou</td><td>▁▄▅▆▆▆▇▇▇▇▇▇███</td></tr><tr><td>train_acc</td><td>▁▅▆▇▇▇▇▇▇██████</td></tr><tr><td>train_sens</td><td>▁▆▇▇▇██████████</td></tr><tr><td>train_spec</td><td>▁▄▆▆▇▇▇▇▇██████</td></tr><tr><td>val_dice</td><td>▁▄▆▆▆▄▇▃▅▆▇██▇█</td></tr><tr><td>val_iou</td><td>▁▄▅▆▅▄▇▃▅▅▇██▇█</td></tr><tr><td>val_acc</td><td>██▆█▆▅█▁▇▆▇█▇▇▇</td></tr><tr><td>val_sens</td><td>▁▃▇▅▇█▆█▄█▇▇▇█▇</td></tr><tr><td>val_spec</td><td>█▇▆█▅▄▇▁▇▆▇▇▇▆▇</td></tr><tr><td>_runtime</td><td>▁▂▂▂▃▃▄▅▅▅▆▆▇██</td></tr><tr><td>_timestamp</td><td>▁▂▂▂▃▃▄▅▅▅▆▆▇██</td></tr><tr><td>_step</td><td>▁▁▂▃▃▃▄▅▅▅▆▇▇▇█</td></tr></table><br/>"
            ],
            "text/plain": [
              "<IPython.core.display.HTML object>"
            ]
          },
          "metadata": {
            "tags": []
          }
        },
        {
          "output_type": "display_data",
          "data": {
            "text/html": [
              "Synced 5 W&B file(s), 0 media file(s), 0 artifact file(s) and 0 other file(s)"
            ],
            "text/plain": [
              "<IPython.core.display.HTML object>"
            ]
          },
          "metadata": {
            "tags": []
          }
        },
        {
          "output_type": "display_data",
          "data": {
            "text/html": [
              "\n",
              "                    <br/>Synced <strong style=\"color:#cdcd00\">worldly-resonance-23</strong>: <a href=\"https://wandb.ai/simonamtoft/project-2/runs/1l2xbzru\" target=\"_blank\">https://wandb.ai/simonamtoft/project-2/runs/1l2xbzru</a><br/>\n",
              "                "
            ],
            "text/plain": [
              "<IPython.core.display.HTML object>"
            ]
          },
          "metadata": {
            "tags": []
          }
        }
      ]
    },
    {
      "cell_type": "markdown",
      "metadata": {
        "id": "AhE8riYdwau6"
      },
      "source": [
        "## Evaluate on test set"
      ]
    },
    {
      "cell_type": "code",
      "metadata": {
        "id": "yUPHGKlTtgiU"
      },
      "source": [
        "test_dict = test_pass_medical(config, model, test_loader)"
      ],
      "execution_count": null,
      "outputs": []
    },
    {
      "cell_type": "markdown",
      "metadata": {
        "id": "d1dav8Cg-1wF"
      },
      "source": [
        "## Show resulting metrics"
      ]
    },
    {
      "cell_type": "code",
      "metadata": {
        "id": "4kaizsF89fiR",
        "colab": {
          "base_uri": "https://localhost:8080/"
        },
        "outputId": "ee59a86f-097b-4276-fe21-ebb20a0da089"
      },
      "source": [
        "print(\"\\tdice \\tiou \\tacc \\tsens \\tspec\")\n",
        "# print(train_dict['metrics'])\n",
        "print(val_dict['metrics'])\n",
        "# print(test_dict['metrics'])"
      ],
      "execution_count": null,
      "outputs": [
        {
          "output_type": "stream",
          "text": [
            "\tdice \tiou \tacc \tsens \tspec\n",
            "tensor([0.3547, 0.2747, 0.9919, 0.5495, 0.9923], dtype=torch.float64)\n"
          ],
          "name": "stdout"
        }
      ]
    },
    {
      "cell_type": "markdown",
      "metadata": {
        "id": "heLLARW8m0Go"
      },
      "source": [
        "Bar plot of performance metrics for different class weights"
      ]
    },
    {
      "cell_type": "code",
      "metadata": {
        "id": "CYf-rBdGnbUs",
        "colab": {
          "base_uri": "https://localhost:8080/",
          "height": 281
        },
        "outputId": "b87f9fcd-cead-4e56-cc96-afbf68dedb32"
      },
      "source": [
        "# weight_1 = []\n",
        "weight_2 = [0.3611, 0.3, 0.9967, 0.3566, 0.9984]\n",
        "weight_5 = [0.3786, 0.3137, 0.9957, 0.4251, 0.9968]\n",
        "weight_10 = [0.3662, 0.2926, 0.9933, 0.5066, 0.9940]\n",
        "weight_25 = [0.3547, 0.2747, 0.9919, 0.5495, 0.992]\n",
        "weight_50 = [0.2611, 0.1870, 0.9841, 0.5518, 0.9843] \n",
        "\n",
        "# dice = [0.3611, 0.3786, 0.3662, 0.2611]\n",
        "# iou = [0.3, 0.3137, 0.2926, 0.1870]\n",
        "# acc = [0.9967, 0.9957, 0.9933, 0.9841]\n",
        "# sens = [0.3566, 0.4251, 0.5066, 0.5518]\n",
        "# spec = [0.9984, 0.9968, 0.9940, 0.9843]\n",
        "\n",
        "# x = [2, 5, 10, 50]\n",
        "\n",
        "ind = np.arange(5)\n",
        "width = 0.1\n",
        "\n",
        "fig = plt.figure()\n",
        "ax = fig.add_subplot(111)\n",
        "\n",
        "\n",
        "rects_2 = ax.bar(ind-width, weight_2, width, color='burlywood')\n",
        "rects_5 = ax.bar(ind, weight_5, width, color='cadetblue')\n",
        "rects_10 = ax.bar(ind+width, weight_10, width, color='coral')\n",
        "rects_25 = ax.bar(ind+2*width, weight_25, width, color='brown')\n",
        "rects_50 = ax.bar(ind+3*width, weight_50, width, color='darkolivegreen')\n",
        "\n",
        "\n",
        "ax.set_ylabel('Scores')\n",
        "ax.set_xticks(ind+width)\n",
        "ax.set_xticklabels( ('Dice', 'IoU', 'Acc', 'Sens', 'Spec') )\n",
        "ax.legend( (rects_2[0], rects_5[0], rects_10[0], rects_25[0], rects_50[0]), ('2', '5', '10', '25', '50') )\n",
        "ax.set_title('Performance metrics using different class weights')\n",
        "fig.savefig('weights_bar.png', dpi=300, transparent=True, bbox_inches='tight')"
      ],
      "execution_count": null,
      "outputs": [
        {
          "output_type": "display_data",
          "data": {
            "image/png": "[encoded data removed]",
            "text/plain": [
              "<Figure size 432x288 with 1 Axes>"
            ]
          },
          "metadata": {
            "tags": [],
            "needs_background": "light"
          }
        }
      ]
    },
    {
      "cell_type": "code",
      "metadata": {
        "id": "ohYC2K2R-ki7"
      },
      "source": [
        ""
      ],
      "execution_count": null,
      "outputs": []
    },
    {
      "cell_type": "code",
      "metadata": {
        "id": "aCbZYrNwzJFY"
      },
      "source": [
        ""
      ],
      "execution_count": null,
      "outputs": []
    }
  ]
}