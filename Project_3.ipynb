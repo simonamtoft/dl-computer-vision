{
  "nbformat": 4,
  "nbformat_minor": 0,
  "metadata": {
    "colab": {
      "name": "Project 3.ipynb",
      "provenance": [],
      "collapsed_sections": []
    },
    "kernelspec": {
      "name": "python3",
      "display_name": "Python 3"
    },
    "accelerator": "GPU"
  },
  "cells": [
    {
      "cell_type": "markdown",
      "metadata": {
        "id": "lZ7fRJ_r-oio"
      },
      "source": [
        "# Setup Notebook"
      ]
    },
    {
      "cell_type": "code",
      "metadata": {
        "id": "asiAzNlKUQhU"
      },
      "source": [
        "import os\n",
        "import numpy as np\n",
        "import glob\n",
        "import time\n",
        "import PIL.Image as Image\n",
        "from tqdm.notebook import tqdm\n",
        "from itertools import chain\n",
        "from collections import OrderedDict\n",
        "\n",
        "\n",
        "import torch\n",
        "import torch.nn as nn\n",
        "import torch.nn.functional as F\n",
        "from torch.utils.data import DataLoader\n",
        "import torchvision.transforms as transforms\n",
        "import matplotlib.pylab as plt\n",
        "import ipywidgets\n",
        "from IPython import display"
      ],
      "execution_count": 1,
      "outputs": []
    },
    {
      "cell_type": "code",
      "metadata": {
        "id": "QXdcMIZMrsrD",
        "colab": {
          "base_uri": "https://localhost:8080/"
        },
        "outputId": "51bffa74-e3ab-4ba7-a13d-19e09c1c2ba2"
      },
      "source": [
        "# set device\n",
        "if torch.cuda.is_available():\n",
        "    print(\"The code will run on GPU.\")\n",
        "else:\n",
        "    print(\"The code will run on CPU. Go to Edit->Notebook Settings and choose GPU as the hardware accelerator\")\n",
        "device = torch.device('cuda' if torch.cuda.is_available() else 'cpu')"
      ],
      "execution_count": 2,
      "outputs": [
        {
          "output_type": "stream",
          "text": [
            "The code will run on GPU.\n"
          ],
          "name": "stdout"
        }
      ]
    },
    {
      "cell_type": "code",
      "metadata": {
        "id": "Amq_5Ipp-1NV"
      },
      "source": [
        "# install weight and biases library\n",
        "!pip install wandb > /dev/null\n",
        "import wandb"
      ],
      "execution_count": 3,
      "outputs": []
    },
    {
      "cell_type": "code",
      "metadata": {
        "colab": {
          "base_uri": "https://localhost:8080/"
        },
        "id": "bp7aqhe6-3DJ",
        "outputId": "2b4a854e-b756-4a0f-9250-0775694be822"
      },
      "source": [
        "# setup repo\n",
        "import sys, os\n",
        "if os.path.exists('./dl-computer-vision'):\n",
        "    !rm -r dl-computer-vision > /dev/null\n",
        "!git clone https://github.com/simonamtoft/dl-computer-vision.git > /dev/null\n",
        "sys.path.append('dl-computer-vision')\n",
        "\n",
        "from data import HORSES, ZEBRAS\n",
        "from models import Discriminator, Generator\n",
        "from training import train_cycle_gan"
      ],
      "execution_count": 4,
      "outputs": [
        {
          "output_type": "stream",
          "text": [
            "Cloning into 'dl-computer-vision'...\n",
            "remote: Enumerating objects: 1058, done.\u001b[K\n",
            "remote: Counting objects:   0% (1/305)\u001b[K\rremote: Counting objects:   1% (4/305)\u001b[K\rremote: Counting objects:   2% (7/305)\u001b[K\rremote: Counting objects:   3% (10/305)\u001b[K\rremote: Counting objects:   4% (13/305)\u001b[K\rremote: Counting objects:   5% (16/305)\u001b[K\rremote: Counting objects:   6% (19/305)\u001b[K\rremote: Counting objects:   7% (22/305)\u001b[K\rremote: Counting objects:   8% (25/305)\u001b[K\rremote: Counting objects:   9% (28/305)\u001b[K\rremote: Counting objects:  10% (31/305)\u001b[K\rremote: Counting objects:  11% (34/305)\u001b[K\rremote: Counting objects:  12% (37/305)\u001b[K\rremote: Counting objects:  13% (40/305)\u001b[K\rremote: Counting objects:  14% (43/305)\u001b[K\rremote: Counting objects:  15% (46/305)\u001b[K\rremote: Counting objects:  16% (49/305)\u001b[K\rremote: Counting objects:  17% (52/305)\u001b[K\rremote: Counting objects:  18% (55/305)\u001b[K\rremote: Counting objects:  19% (58/305)\u001b[K\rremote: Counting objects:  20% (61/305)\u001b[K\rremote: Counting objects:  21% (65/305)\u001b[K\rremote: Counting objects:  22% (68/305)\u001b[K\rremote: Counting objects:  23% (71/305)\u001b[K\rremote: Counting objects:  24% (74/305)\u001b[K\rremote: Counting objects:  25% (77/305)\u001b[K\rremote: Counting objects:  26% (80/305)\u001b[K\rremote: Counting objects:  27% (83/305)\u001b[K\rremote: Counting objects:  28% (86/305)\u001b[K\rremote: Counting objects:  29% (89/305)\u001b[K\rremote: Counting objects:  30% (92/305)\u001b[K\rremote: Counting objects:  31% (95/305)\u001b[K\rremote: Counting objects:  32% (98/305)\u001b[K\rremote: Counting objects:  33% (101/305)\u001b[K\rremote: Counting objects:  34% (104/305)\u001b[K\rremote: Counting objects:  35% (107/305)\u001b[K\rremote: Counting objects:  36% (110/305)\u001b[K\rremote: Counting objects:  37% (113/305)\u001b[K\rremote: Counting objects:  38% (116/305)\u001b[K\rremote: Counting objects:  39% (119/305)\u001b[K\rremote: Counting objects:  40% (122/305)\u001b[K\rremote: Counting objects:  41% (126/305)\u001b[K\rremote: Counting objects:  42% (129/305)\u001b[K\rremote: Counting objects:  43% (132/305)\u001b[K\rremote: Counting objects:  44% (135/305)\u001b[K\rremote: Counting objects:  45% (138/305)\u001b[K\rremote: Counting objects:  46% (141/305)\u001b[K\rremote: Counting objects:  47% (144/305)\u001b[K\rremote: Counting objects:  48% (147/305)\u001b[K\rremote: Counting objects:  49% (150/305)\u001b[K\rremote: Counting objects:  50% (153/305)\u001b[K\rremote: Counting objects:  51% (156/305)\u001b[K\rremote: Counting objects:  52% (159/305)\u001b[K\rremote: Counting objects:  53% (162/305)\u001b[K\rremote: Counting objects:  54% (165/305)\u001b[K\rremote: Counting objects:  55% (168/305)\u001b[K\rremote: Counting objects:  56% (171/305)\u001b[K\rremote: Counting objects:  57% (174/305)\u001b[K\rremote: Counting objects:  58% (177/305)\u001b[K\rremote: Counting objects:  59% (180/305)\u001b[K\rremote: Counting objects:  60% (183/305)\u001b[K\rremote: Counting objects:  61% (187/305)\u001b[K\rremote: Counting objects:  62% (190/305)\u001b[K\rremote: Counting objects:  63% (193/305)\u001b[K\rremote: Counting objects:  64% (196/305)\u001b[K\rremote: Counting objects:  65% (199/305)\u001b[K\rremote: Counting objects:  66% (202/305)\u001b[K\rremote: Counting objects:  67% (205/305)\u001b[K\rremote: Counting objects:  68% (208/305)\u001b[K\rremote: Counting objects:  69% (211/305)\u001b[K\rremote: Counting objects:  70% (214/305)\u001b[K\rremote: Counting objects:  71% (217/305)\u001b[K\rremote: Counting objects:  72% (220/305)\u001b[K\rremote: Counting objects:  73% (223/305)\u001b[K\rremote: Counting objects:  74% (226/305)\u001b[K\rremote: Counting objects:  75% (229/305)\u001b[K\rremote: Counting objects:  76% (232/305)\u001b[K\rremote: Counting objects:  77% (235/305)\u001b[K\rremote: Counting objects:  78% (238/305)\u001b[K\rremote: Counting objects:  79% (241/305)\u001b[K\rremote: Counting objects:  80% (244/305)\u001b[K\rremote: Counting objects:  81% (248/305)\u001b[K\rremote: Counting objects:  82% (251/305)\u001b[K\rremote: Counting objects:  83% (254/305)\u001b[K\rremote: Counting objects:  84% (257/305)\u001b[K\rremote: Counting objects:  85% (260/305)\u001b[K\rremote: Counting objects:  86% (263/305)\u001b[K\rremote: Counting objects:  87% (266/305)\u001b[K\rremote: Counting objects:  88% (269/305)\u001b[K\rremote: Counting objects:  89% (272/305)\u001b[K\rremote: Counting objects:  90% (275/305)\u001b[K\rremote: Counting objects:  91% (278/305)\u001b[K\rremote: Counting objects:  92% (281/305)\u001b[K\rremote: Counting objects:  93% (284/305)\u001b[K\rremote: Counting objects:  94% (287/305)\u001b[K\rremote: Counting objects:  95% (290/305)\u001b[K\rremote: Counting objects:  96% (293/305)\u001b[K\rremote: Counting objects:  97% (296/305)\u001b[K\rremote: Counting objects:  98% (299/305)\u001b[K\rremote: Counting objects:  99% (302/305)\u001b[K\rremote: Counting objects: 100% (305/305)\u001b[K\rremote: Counting objects: 100% (305/305), done.\u001b[K\n",
            "remote: Compressing objects: 100% (196/196), done.\u001b[K\n",
            "remote: Total 1058 (delta 195), reused 207 (delta 108), pack-reused 753\u001b[K\n",
            "Receiving objects: 100% (1058/1058), 21.24 MiB | 39.40 MiB/s, done.\n",
            "Resolving deltas: 100% (678/678), done.\n"
          ],
          "name": "stdout"
        }
      ]
    },
    {
      "cell_type": "code",
      "metadata": {
        "id": "rCbcSnCd-5jK"
      },
      "source": [
        "# Define name of project on weight and biases site\n",
        "project_name = \"project-3\""
      ],
      "execution_count": 5,
      "outputs": []
    },
    {
      "cell_type": "code",
      "metadata": {
        "id": "PysiqOh-3kRk"
      },
      "source": [
        "# download data\n",
        "if not os.path.exists('./horse2zebra'):\n",
        "    import gdown\n",
        "    url = 'https://drive.google.com/uc?id=1jPelB2jzNZJq3ZU9Uk_Mkt4MJtF3DRgg'\n",
        "    gdown.download(url, './horse2zebra.zip', quiet=False)\n",
        "    !unzip ./horse2zebra.zip > /dev/null"
      ],
      "execution_count": 6,
      "outputs": []
    },
    {
      "cell_type": "markdown",
      "metadata": {
        "id": "2VPLMoBc-8LQ"
      },
      "source": [
        "# Project 3"
      ]
    },
    {
      "cell_type": "code",
      "metadata": {
        "colab": {
          "base_uri": "https://localhost:8080/"
        },
        "id": "sTFqfOka-7rf",
        "outputId": "6a8e9007-a650-46e7-8dfc-4f18dd4ba319"
      },
      "source": [
        "# login to weight and biases\n",
        "!wandb login"
      ],
      "execution_count": 7,
      "outputs": [
        {
          "output_type": "stream",
          "text": [
            "\u001b[34m\u001b[1mwandb\u001b[0m: Currently logged in as: \u001b[33msimonamtoft\u001b[0m (use `wandb login --relogin` to force relogin)\n"
          ],
          "name": "stdout"
        }
      ]
    },
    {
      "cell_type": "code",
      "metadata": {
        "id": "DTWXOj7X_BTo"
      },
      "source": [
        "config = {\n",
        "    'batch_size': 1,\n",
        "    'epochs': 10,\n",
        "    'lr_d': 4*1e-4,\n",
        "    'lr_g': 1*1e-4,\n",
        "    'n_features': 64,\n",
        "    'n_blocks': 6,\n",
        "    'relu_val': 0.2,\n",
        "    'img_loss': 'l2',\n",
        "    'g_loss_weight': [1, 10, 5]\n",
        "}"
      ],
      "execution_count": 8,
      "outputs": []
    },
    {
      "cell_type": "markdown",
      "metadata": {
        "id": "5lnHBcQkDY-d"
      },
      "source": [
        "## Load Data"
      ]
    },
    {
      "cell_type": "code",
      "metadata": {
        "id": "T2isFGXoDadP"
      },
      "source": [
        "# Define data transform\n",
        "transform = transforms.Compose([\n",
        "    transforms.Resize((128, 128)), \n",
        "    transforms.ToTensor()\n",
        "])\n",
        "\n",
        "# Get images of zebras\n",
        "trainset_z = ZEBRAS(dataset = \"train\", transform=transform)\n",
        "testset_z = ZEBRAS(dataset = \"test\", transform=transform)\n",
        "\n",
        "# Get images of horses\n",
        "trainset_h = HORSES(dataset = \"train\", transform=transform)\n",
        "testset_h = HORSES(dataset = \"test\", transform=transform)\n",
        "\n",
        "# Convert to Dataloaders\n",
        "zebra_loader = DataLoader(trainset_z, batch_size=config['batch_size'], shuffle=True)\n",
        "horse_loader = DataLoader(trainset_h, batch_size=config['batch_size'], shuffle=True)"
      ],
      "execution_count": 9,
      "outputs": []
    },
    {
      "cell_type": "markdown",
      "metadata": {
        "id": "NB2MgVPbDjXy"
      },
      "source": [
        "## Train Model"
      ]
    },
    {
      "cell_type": "code",
      "metadata": {
        "colab": {
          "base_uri": "https://localhost:8080/",
          "height": 476
        },
        "id": "oJeO3Df4DaiJ",
        "outputId": "9aedb4d9-f508-4bd9-c182-61cab9039c0e"
      },
      "source": [
        "# Instantiate Cycle GAN network\n",
        "d_h = Discriminator(config).to(device)\n",
        "d_z = Discriminator(config).to(device)\n",
        "g_h2z = Generator(config).to(device)\n",
        "g_z2h = Generator(config).to(device)\n",
        "\n",
        "# Train network\n",
        "train_cycle_gan(config, g_h2z, g_z2h, d_h, d_z, zebra_loader, horse_loader, project_name)"
      ],
      "execution_count": 10,
      "outputs": [
        {
          "output_type": "stream",
          "text": [
            "\u001b[34m\u001b[1mwandb\u001b[0m: Currently logged in as: \u001b[33msimonamtoft\u001b[0m (use `wandb login --relogin` to force relogin)\n"
          ],
          "name": "stderr"
        },
        {
          "output_type": "display_data",
          "data": {
            "text/html": [
              "\n",
              "                Tracking run with wandb version 0.10.32<br/>\n",
              "                Syncing run <strong style=\"color:#cdcd00\">whole-cherry-16</strong> to <a href=\"https://wandb.ai\" target=\"_blank\">Weights & Biases</a> <a href=\"https://docs.wandb.com/integrations/jupyter.html\" target=\"_blank\">(Documentation)</a>.<br/>\n",
              "                Project page: <a href=\"https://wandb.ai/simonamtoft/project-3\" target=\"_blank\">https://wandb.ai/simonamtoft/project-3</a><br/>\n",
              "                Run page: <a href=\"https://wandb.ai/simonamtoft/project-3/runs/37arfwwp\" target=\"_blank\">https://wandb.ai/simonamtoft/project-3/runs/37arfwwp</a><br/>\n",
              "                Run data is saved locally in <code>/content/wandb/run-20210618_104517-37arfwwp</code><br/><br/>\n",
              "            "
            ],
            "text/plain": [
              "<IPython.core.display.HTML object>"
            ]
          },
          "metadata": {
            "tags": []
          }
        },
        {
          "output_type": "stream",
          "text": [
            "Epoch 1/10\n"
          ],
          "name": "stdout"
        },
        {
          "output_type": "error",
          "ename": "KeyboardInterrupt",
          "evalue": "ignored",
          "traceback": [
            "\u001b[0;31m---------------------------------------------------------------------------\u001b[0m",
            "\u001b[0;31mKeyboardInterrupt\u001b[0m                         Traceback (most recent call last)",
            "\u001b[0;32m<ipython-input-10-6958cec9caf9>\u001b[0m in \u001b[0;36m<module>\u001b[0;34m()\u001b[0m\n\u001b[1;32m      6\u001b[0m \u001b[0;34m\u001b[0m\u001b[0m\n\u001b[1;32m      7\u001b[0m \u001b[0;31m# Train network\u001b[0m\u001b[0;34m\u001b[0m\u001b[0;34m\u001b[0m\u001b[0;34m\u001b[0m\u001b[0m\n\u001b[0;32m----> 8\u001b[0;31m \u001b[0mtrain_cycle_gan\u001b[0m\u001b[0;34m(\u001b[0m\u001b[0mconfig\u001b[0m\u001b[0;34m,\u001b[0m \u001b[0mg_h2z\u001b[0m\u001b[0;34m,\u001b[0m \u001b[0mg_z2h\u001b[0m\u001b[0;34m,\u001b[0m \u001b[0md_h\u001b[0m\u001b[0;34m,\u001b[0m \u001b[0md_z\u001b[0m\u001b[0;34m,\u001b[0m \u001b[0mzebra_loader\u001b[0m\u001b[0;34m,\u001b[0m \u001b[0mhorse_loader\u001b[0m\u001b[0;34m,\u001b[0m \u001b[0mproject_name\u001b[0m\u001b[0;34m)\u001b[0m\u001b[0;34m\u001b[0m\u001b[0;34m\u001b[0m\u001b[0m\n\u001b[0m",
            "\u001b[0;32m/content/dl-computer-vision/training/training_3.py\u001b[0m in \u001b[0;36mtrain_cycle_gan\u001b[0;34m(config, g_h2z, g_z2h, d_h, d_z, zebra_loader, horse_loader, p_name)\u001b[0m\n\u001b[1;32m     90\u001b[0m \u001b[0;34m\u001b[0m\u001b[0m\n\u001b[1;32m     91\u001b[0m             \u001b[0;31m# Generate recreational images\u001b[0m\u001b[0;34m\u001b[0m\u001b[0;34m\u001b[0m\u001b[0;34m\u001b[0m\u001b[0m\n\u001b[0;32m---> 92\u001b[0;31m             \u001b[0mx_zebra_rec\u001b[0m \u001b[0;34m=\u001b[0m \u001b[0mg_h2z\u001b[0m\u001b[0;34m(\u001b[0m\u001b[0mx_horse_fake\u001b[0m\u001b[0;34m)\u001b[0m\u001b[0;34m\u001b[0m\u001b[0;34m\u001b[0m\u001b[0m\n\u001b[0m\u001b[1;32m     93\u001b[0m             \u001b[0mx_horse_rec\u001b[0m \u001b[0;34m=\u001b[0m \u001b[0mg_z2h\u001b[0m\u001b[0;34m(\u001b[0m\u001b[0mx_zebra_fake\u001b[0m\u001b[0;34m)\u001b[0m\u001b[0;34m\u001b[0m\u001b[0;34m\u001b[0m\u001b[0m\n\u001b[1;32m     94\u001b[0m \u001b[0;34m\u001b[0m\u001b[0m\n",
            "\u001b[0;32m/usr/local/lib/python3.7/dist-packages/torch/nn/modules/module.py\u001b[0m in \u001b[0;36m_call_impl\u001b[0;34m(self, *input, **kwargs)\u001b[0m\n\u001b[1;32m    887\u001b[0m             \u001b[0mresult\u001b[0m \u001b[0;34m=\u001b[0m \u001b[0mself\u001b[0m\u001b[0;34m.\u001b[0m\u001b[0m_slow_forward\u001b[0m\u001b[0;34m(\u001b[0m\u001b[0;34m*\u001b[0m\u001b[0minput\u001b[0m\u001b[0;34m,\u001b[0m \u001b[0;34m**\u001b[0m\u001b[0mkwargs\u001b[0m\u001b[0;34m)\u001b[0m\u001b[0;34m\u001b[0m\u001b[0;34m\u001b[0m\u001b[0m\n\u001b[1;32m    888\u001b[0m         \u001b[0;32melse\u001b[0m\u001b[0;34m:\u001b[0m\u001b[0;34m\u001b[0m\u001b[0;34m\u001b[0m\u001b[0m\n\u001b[0;32m--> 889\u001b[0;31m             \u001b[0mresult\u001b[0m \u001b[0;34m=\u001b[0m \u001b[0mself\u001b[0m\u001b[0;34m.\u001b[0m\u001b[0mforward\u001b[0m\u001b[0;34m(\u001b[0m\u001b[0;34m*\u001b[0m\u001b[0minput\u001b[0m\u001b[0;34m,\u001b[0m \u001b[0;34m**\u001b[0m\u001b[0mkwargs\u001b[0m\u001b[0;34m)\u001b[0m\u001b[0;34m\u001b[0m\u001b[0;34m\u001b[0m\u001b[0m\n\u001b[0m\u001b[1;32m    890\u001b[0m         for hook in itertools.chain(\n\u001b[1;32m    891\u001b[0m                 \u001b[0m_global_forward_hooks\u001b[0m\u001b[0;34m.\u001b[0m\u001b[0mvalues\u001b[0m\u001b[0;34m(\u001b[0m\u001b[0;34m)\u001b[0m\u001b[0;34m,\u001b[0m\u001b[0;34m\u001b[0m\u001b[0;34m\u001b[0m\u001b[0m\n",
            "\u001b[0;32m/content/dl-computer-vision/models/GAN.py\u001b[0m in \u001b[0;36mforward\u001b[0;34m(self, x)\u001b[0m\n\u001b[1;32m     52\u001b[0m \u001b[0;34m\u001b[0m\u001b[0m\n\u001b[1;32m     53\u001b[0m     \u001b[0;32mdef\u001b[0m \u001b[0mforward\u001b[0m\u001b[0;34m(\u001b[0m\u001b[0mself\u001b[0m\u001b[0;34m,\u001b[0m \u001b[0mx\u001b[0m\u001b[0;34m)\u001b[0m\u001b[0;34m:\u001b[0m\u001b[0;34m\u001b[0m\u001b[0;34m\u001b[0m\u001b[0m\n\u001b[0;32m---> 54\u001b[0;31m         \u001b[0;32mreturn\u001b[0m \u001b[0mself\u001b[0m\u001b[0;34m.\u001b[0m\u001b[0mconv\u001b[0m\u001b[0;34m(\u001b[0m\u001b[0mx\u001b[0m\u001b[0;34m)\u001b[0m\u001b[0;34m\u001b[0m\u001b[0;34m\u001b[0m\u001b[0m\n\u001b[0m\u001b[1;32m     55\u001b[0m \u001b[0;34m\u001b[0m\u001b[0m\n\u001b[1;32m     56\u001b[0m \u001b[0;34m\u001b[0m\u001b[0m\n",
            "\u001b[0;32m/usr/local/lib/python3.7/dist-packages/torch/nn/modules/module.py\u001b[0m in \u001b[0;36m_call_impl\u001b[0;34m(self, *input, **kwargs)\u001b[0m\n\u001b[1;32m    887\u001b[0m             \u001b[0mresult\u001b[0m \u001b[0;34m=\u001b[0m \u001b[0mself\u001b[0m\u001b[0;34m.\u001b[0m\u001b[0m_slow_forward\u001b[0m\u001b[0;34m(\u001b[0m\u001b[0;34m*\u001b[0m\u001b[0minput\u001b[0m\u001b[0;34m,\u001b[0m \u001b[0;34m**\u001b[0m\u001b[0mkwargs\u001b[0m\u001b[0;34m)\u001b[0m\u001b[0;34m\u001b[0m\u001b[0;34m\u001b[0m\u001b[0m\n\u001b[1;32m    888\u001b[0m         \u001b[0;32melse\u001b[0m\u001b[0;34m:\u001b[0m\u001b[0;34m\u001b[0m\u001b[0;34m\u001b[0m\u001b[0m\n\u001b[0;32m--> 889\u001b[0;31m             \u001b[0mresult\u001b[0m \u001b[0;34m=\u001b[0m \u001b[0mself\u001b[0m\u001b[0;34m.\u001b[0m\u001b[0mforward\u001b[0m\u001b[0;34m(\u001b[0m\u001b[0;34m*\u001b[0m\u001b[0minput\u001b[0m\u001b[0;34m,\u001b[0m \u001b[0;34m**\u001b[0m\u001b[0mkwargs\u001b[0m\u001b[0;34m)\u001b[0m\u001b[0;34m\u001b[0m\u001b[0;34m\u001b[0m\u001b[0m\n\u001b[0m\u001b[1;32m    890\u001b[0m         for hook in itertools.chain(\n\u001b[1;32m    891\u001b[0m                 \u001b[0m_global_forward_hooks\u001b[0m\u001b[0;34m.\u001b[0m\u001b[0mvalues\u001b[0m\u001b[0;34m(\u001b[0m\u001b[0;34m)\u001b[0m\u001b[0;34m,\u001b[0m\u001b[0;34m\u001b[0m\u001b[0;34m\u001b[0m\u001b[0m\n",
            "\u001b[0;32m/usr/local/lib/python3.7/dist-packages/torch/nn/modules/container.py\u001b[0m in \u001b[0;36mforward\u001b[0;34m(self, input)\u001b[0m\n\u001b[1;32m    117\u001b[0m     \u001b[0;32mdef\u001b[0m \u001b[0mforward\u001b[0m\u001b[0;34m(\u001b[0m\u001b[0mself\u001b[0m\u001b[0;34m,\u001b[0m \u001b[0minput\u001b[0m\u001b[0;34m)\u001b[0m\u001b[0;34m:\u001b[0m\u001b[0;34m\u001b[0m\u001b[0;34m\u001b[0m\u001b[0m\n\u001b[1;32m    118\u001b[0m         \u001b[0;32mfor\u001b[0m \u001b[0mmodule\u001b[0m \u001b[0;32min\u001b[0m \u001b[0mself\u001b[0m\u001b[0;34m:\u001b[0m\u001b[0;34m\u001b[0m\u001b[0;34m\u001b[0m\u001b[0m\n\u001b[0;32m--> 119\u001b[0;31m             \u001b[0minput\u001b[0m \u001b[0;34m=\u001b[0m \u001b[0mmodule\u001b[0m\u001b[0;34m(\u001b[0m\u001b[0minput\u001b[0m\u001b[0;34m)\u001b[0m\u001b[0;34m\u001b[0m\u001b[0;34m\u001b[0m\u001b[0m\n\u001b[0m\u001b[1;32m    120\u001b[0m         \u001b[0;32mreturn\u001b[0m \u001b[0minput\u001b[0m\u001b[0;34m\u001b[0m\u001b[0;34m\u001b[0m\u001b[0m\n\u001b[1;32m    121\u001b[0m \u001b[0;34m\u001b[0m\u001b[0m\n",
            "\u001b[0;32m/usr/local/lib/python3.7/dist-packages/torch/nn/modules/module.py\u001b[0m in \u001b[0;36m_call_impl\u001b[0;34m(self, *input, **kwargs)\u001b[0m\n\u001b[1;32m    887\u001b[0m             \u001b[0mresult\u001b[0m \u001b[0;34m=\u001b[0m \u001b[0mself\u001b[0m\u001b[0;34m.\u001b[0m\u001b[0m_slow_forward\u001b[0m\u001b[0;34m(\u001b[0m\u001b[0;34m*\u001b[0m\u001b[0minput\u001b[0m\u001b[0;34m,\u001b[0m \u001b[0;34m**\u001b[0m\u001b[0mkwargs\u001b[0m\u001b[0;34m)\u001b[0m\u001b[0;34m\u001b[0m\u001b[0;34m\u001b[0m\u001b[0m\n\u001b[1;32m    888\u001b[0m         \u001b[0;32melse\u001b[0m\u001b[0;34m:\u001b[0m\u001b[0;34m\u001b[0m\u001b[0;34m\u001b[0m\u001b[0m\n\u001b[0;32m--> 889\u001b[0;31m             \u001b[0mresult\u001b[0m \u001b[0;34m=\u001b[0m \u001b[0mself\u001b[0m\u001b[0;34m.\u001b[0m\u001b[0mforward\u001b[0m\u001b[0;34m(\u001b[0m\u001b[0;34m*\u001b[0m\u001b[0minput\u001b[0m\u001b[0;34m,\u001b[0m \u001b[0;34m**\u001b[0m\u001b[0mkwargs\u001b[0m\u001b[0;34m)\u001b[0m\u001b[0;34m\u001b[0m\u001b[0;34m\u001b[0m\u001b[0m\n\u001b[0m\u001b[1;32m    890\u001b[0m         for hook in itertools.chain(\n\u001b[1;32m    891\u001b[0m                 \u001b[0m_global_forward_hooks\u001b[0m\u001b[0;34m.\u001b[0m\u001b[0mvalues\u001b[0m\u001b[0;34m(\u001b[0m\u001b[0;34m)\u001b[0m\u001b[0;34m,\u001b[0m\u001b[0;34m\u001b[0m\u001b[0;34m\u001b[0m\u001b[0m\n",
            "\u001b[0;32m/usr/local/lib/python3.7/dist-packages/torch/nn/modules/conv.py\u001b[0m in \u001b[0;36mforward\u001b[0;34m(self, input)\u001b[0m\n\u001b[1;32m    397\u001b[0m \u001b[0;34m\u001b[0m\u001b[0m\n\u001b[1;32m    398\u001b[0m     \u001b[0;32mdef\u001b[0m \u001b[0mforward\u001b[0m\u001b[0;34m(\u001b[0m\u001b[0mself\u001b[0m\u001b[0;34m,\u001b[0m \u001b[0minput\u001b[0m\u001b[0;34m:\u001b[0m \u001b[0mTensor\u001b[0m\u001b[0;34m)\u001b[0m \u001b[0;34m->\u001b[0m \u001b[0mTensor\u001b[0m\u001b[0;34m:\u001b[0m\u001b[0;34m\u001b[0m\u001b[0;34m\u001b[0m\u001b[0m\n\u001b[0;32m--> 399\u001b[0;31m         \u001b[0;32mreturn\u001b[0m \u001b[0mself\u001b[0m\u001b[0;34m.\u001b[0m\u001b[0m_conv_forward\u001b[0m\u001b[0;34m(\u001b[0m\u001b[0minput\u001b[0m\u001b[0;34m,\u001b[0m \u001b[0mself\u001b[0m\u001b[0;34m.\u001b[0m\u001b[0mweight\u001b[0m\u001b[0;34m,\u001b[0m \u001b[0mself\u001b[0m\u001b[0;34m.\u001b[0m\u001b[0mbias\u001b[0m\u001b[0;34m)\u001b[0m\u001b[0;34m\u001b[0m\u001b[0;34m\u001b[0m\u001b[0m\n\u001b[0m\u001b[1;32m    400\u001b[0m \u001b[0;34m\u001b[0m\u001b[0m\n\u001b[1;32m    401\u001b[0m \u001b[0;32mclass\u001b[0m \u001b[0mConv3d\u001b[0m\u001b[0;34m(\u001b[0m\u001b[0m_ConvNd\u001b[0m\u001b[0;34m)\u001b[0m\u001b[0;34m:\u001b[0m\u001b[0;34m\u001b[0m\u001b[0;34m\u001b[0m\u001b[0m\n",
            "\u001b[0;32m/usr/local/lib/python3.7/dist-packages/torch/nn/modules/conv.py\u001b[0m in \u001b[0;36m_conv_forward\u001b[0;34m(self, input, weight, bias)\u001b[0m\n\u001b[1;32m    394\u001b[0m                             _pair(0), self.dilation, self.groups)\n\u001b[1;32m    395\u001b[0m         return F.conv2d(input, weight, bias, self.stride,\n\u001b[0;32m--> 396\u001b[0;31m                         self.padding, self.dilation, self.groups)\n\u001b[0m\u001b[1;32m    397\u001b[0m \u001b[0;34m\u001b[0m\u001b[0m\n\u001b[1;32m    398\u001b[0m     \u001b[0;32mdef\u001b[0m \u001b[0mforward\u001b[0m\u001b[0;34m(\u001b[0m\u001b[0mself\u001b[0m\u001b[0;34m,\u001b[0m \u001b[0minput\u001b[0m\u001b[0;34m:\u001b[0m \u001b[0mTensor\u001b[0m\u001b[0;34m)\u001b[0m \u001b[0;34m->\u001b[0m \u001b[0mTensor\u001b[0m\u001b[0;34m:\u001b[0m\u001b[0;34m\u001b[0m\u001b[0;34m\u001b[0m\u001b[0m\n",
            "\u001b[0;31mKeyboardInterrupt\u001b[0m: "
          ]
        }
      ]
    },
    {
      "cell_type": "code",
      "metadata": {
        "id": "7Md9eWWVCjVb"
      },
      "source": [
        ""
      ],
      "execution_count": null,
      "outputs": []
    }
  ]
}